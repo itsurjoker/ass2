{
 "cells": [
  {
   "cell_type": "code",
   "execution_count": null,
   "id": "504a6811-936e-46e9-b17e-34aad6772c95",
   "metadata": {},
   "outputs": [],
   "source": [
    "#Q1.\n",
    "In Python, we can add comments to your code to make it more readable and provide explanations or notes for yourself or other developers who might work with your code. \n",
    "There are two types of comments in Python: single-line comments and multi-line comments.\n",
    "\n",
    "    Single-line comments: To add a comment that spans only a single line, you can use the '#' character. Anything following the \"#\" symbol on the same line will be treated as a comment and will not be executed as part of the code\n",
    "    \n",
    "    Multi-line comments: If you need to add comments that span multiple lines, you can enclose them within triple quotes (\"\"\" or '''). This syntax is also used for docstrings, which are used to provide documentation for functions, classes, or modules. Although Python doesn't have a specific syntax for multi-line comments, using triple quotes allows you to achieve a similar effect."
   ]
  },
  {
   "cell_type": "code",
   "execution_count": null,
   "id": "171ba9b6-8ac2-44e6-ab38-8ff84bc38cd3",
   "metadata": {},
   "outputs": [],
   "source": [
    "#Q2.\n",
    "In Python, variables are used to store data values. They act as containers for holding information, such as numbers, text, lists, or other data types. Unlike some other programming languages, Python is dynamically typed, which means you don't need to declare the data type explicitly when creating a variable. The data type of a variable is inferred based on the value assigned to it.\n",
    "\n",
    "To declare and assign values to variables in Python, you simply use the assignment operator \"=\".\n",
    "\n",
    "Here's the basic syntax for declaring and assigning values to variables:\n",
    "variable_name = value"
   ]
  },
  {
   "cell_type": "code",
   "execution_count": null,
   "id": "73dd81c1-0dc5-4fd6-ab6b-bd7a14325867",
   "metadata": {},
   "outputs": [],
   "source": [
    "#Q3.\n",
    "In Python, we can convert one data type to another using type casting or conversion functions. Python provides built-in functions to perform these conversions. Here are some common data type conversion methods:\n",
    "\n",
    "    int(): Converts a value to an integer data type.\n",
    "float_num = 3.14\n",
    "integer_num = int(float_num)\n",
    "print(integer_num)  \n",
    "Output: 3\n",
    "\n",
    "   \n",
    "    float(): Converts a value to a floating-point data type.\n",
    "integer_num = 42\n",
    "float_num = float(integer_num)\n",
    "print(float_num)  \n",
    "Output: 42.0\n",
    "\n",
    "   \n",
    "    str(): Converts a value to a string data type.\n",
    "number = 123\n",
    "text = str(number)\n",
    "print(text)  \n",
    "Output: '123'\n",
    "\n",
    "\n",
    "    bool(): Converts a value to a boolean data type.\n",
    "zero_value = 0\n",
    "non_zero_value = 42\n",
    "\n",
    "zero_bool = bool(zero_value)\n",
    "non_zero_bool = bool(non_zero_value)\n",
    "\n",
    "print(zero_bool)         Output: False\n",
    "print(non_zero_bool)     Output: True\n",
    "\n",
    "\n",
    "    list(), tuple(), set(): Convert sequences to lists, tuples, and sets, respectively.\n",
    "text = \"Hello\"\n",
    "list_text = list(text)\n",
    "tuple_text = tuple(text)\n",
    "set_text = set(text)\n",
    "\n",
    "print(list_text)     Output: ['H', 'e', 'l', 'l', 'o']\n",
    "print(tuple_text)    Output: ('H', 'e', 'l', 'l', 'o')\n",
    "print(set_text)      Output: {'H', 'e', 'l', 'o'}\n",
    "\n",
    "    dict(): Convert two-value sequences to dictionaries.\n",
    "pair = ('key', 'value')\n",
    "dictionary = dict([pair])\n",
    "\n",
    "print(dictionary)    \n",
    "Output: {'key': 'value'}\n",
    "\n"
   ]
  },
  {
   "cell_type": "code",
   "execution_count": null,
   "id": "5b9a8a59-f2b1-464e-bad9-1510934dc053",
   "metadata": {},
   "outputs": [],
   "source": [
    "#Q4.\n",
    "\n",
    "To write and execute a Python script from the command line, follow these steps:\n",
    "\n",
    "Step 1: Open a text editor\n",
    "Choose a text editor or integrated development environment (IDE) of your choice to write your Python script. Popular text editors include Notepad++, Visual Studio Code, Sublime Text, or simply using the command-line text editors like nano or vim.\n",
    "\n",
    "Step 2: Write the Python script\n",
    "In the text editor, write your Python code. For example, let's create a simple script that prints \"Hello, World!\".\n",
    "\n",
    "# hello_world.py\n",
    "print(\"Hello, World!\")\n",
    "\n",
    "Save the file with a .py extension (e.g., hello_world.py) to indicate that it's a Python script.\n",
    "\n",
    "Step 3: Open the Command Line (Terminal)\n",
    "On Windows, open the Command Prompt (cmd.exe) or Windows PowerShell. On macOS or Linux, open the Terminal.\n",
    "\n",
    "Step 4: Navigate to the script's directory (optional)\n",
    "If your script is not in the default working directory of the Command Line, navigate to the directory where your Python script is located using the 'cd' command (Change Directory).\n",
    "\n",
    "For example, if your script is in the Documents folder, you can use:\n",
    "\n",
    "cd Documents\n",
    "\n",
    "Step 5: Execute the Python script\n",
    "Once you are in the directory containing your Python script, execute it by typing python followed by the name of the script."
   ]
  },
  {
   "cell_type": "code",
   "execution_count": 1,
   "id": "dfa54ebd-3c95-4bf7-938f-6bd4c54de5f9",
   "metadata": {},
   "outputs": [
    {
     "name": "stdout",
     "output_type": "stream",
     "text": [
      "[2, 3]\n"
     ]
    }
   ],
   "source": [
    "#Q5.\n",
    "\n",
    "my_list = [1, 2, 3, 4, 5]\n",
    "sub_list = my_list[1:3]\n",
    "print(sub_list)"
   ]
  },
  {
   "cell_type": "code",
   "execution_count": null,
   "id": "0767c881-1e8c-44fb-96a9-f80763183b42",
   "metadata": {},
   "outputs": [],
   "source": [
    "#Q6.\n",
    "\n",
    "In mathematics, a complex number is a number that comprises both a real part and an imaginary part. It is expressed in the form \"a + bi,\" where 'a' is the real part, 'b' is the imaginary part, and 'i' represents the imaginary unit (i.e., the square root of -1). The real part and the imaginary part are both real numbers.\n",
    "\n",
    "The imaginary unit 'i' follows the property: i^2 = -1.\n",
    "\n",
    "In Python, complex numbers are represented by using the built-in complex data type. To create a complex number, you can use the syntax: complex(real_part, imaginary_part).\n",
    "\n",
    "For example:\n",
    " Creating complex numbers\n",
    "z1 = complex(3, 4)    3 + 4i\n",
    "z2 = complex(-2, 7)   -2 + 7i\n",
    "z3 = complex(0, -2)   -2i\n",
    "\n",
    " Printing the complex numbers\n",
    "print(z1)   Output: (3+4j)\n",
    "print(z2)   Output: (-2+7j)\n",
    "print(z3)   Output: (-2j)\n"
   ]
  },
  {
   "cell_type": "code",
   "execution_count": null,
   "id": "9ff62c05-1454-4f1c-a96a-0061c7a01717",
   "metadata": {},
   "outputs": [],
   "source": [
    "#Q7.\n",
    "\n",
    "age = 25"
   ]
  },
  {
   "cell_type": "code",
   "execution_count": 3,
   "id": "5b3813c2-1109-4619-8d45-5f60beb73966",
   "metadata": {},
   "outputs": [
    {
     "data": {
      "text/plain": [
       "float"
      ]
     },
     "execution_count": 3,
     "metadata": {},
     "output_type": "execute_result"
    }
   ],
   "source": [
    "#Q8.\n",
    "\n",
    "price = 9.99\n",
    "\n",
    "type(price)"
   ]
  },
  {
   "cell_type": "code",
   "execution_count": 4,
   "id": "c1b1608f-1a52-442b-8f94-81ba3e08925b",
   "metadata": {},
   "outputs": [
    {
     "name": "stdout",
     "output_type": "stream",
     "text": [
      "Shivam Sharma\n"
     ]
    }
   ],
   "source": [
    "#Q9\n",
    "\n",
    "name = \"Shivam Sharma\"\n",
    "print(name)"
   ]
  },
  {
   "cell_type": "code",
   "execution_count": 5,
   "id": "cec1f8a8-c811-4ec4-9569-c911bd074ae6",
   "metadata": {},
   "outputs": [
    {
     "name": "stdout",
     "output_type": "stream",
     "text": [
      "World\n"
     ]
    }
   ],
   "source": [
    "#Q10\n",
    "\n",
    "original_string = \"Hello, World!\"\n",
    "substring = original_string[7:12]\n",
    "print(substring)"
   ]
  },
  {
   "cell_type": "code",
   "execution_count": null,
   "id": "d2cd4007-1a5a-41f1-a6bb-3eae50d94370",
   "metadata": {},
   "outputs": [],
   "source": [
    "#Q11.\n",
    "is_student = True\n"
   ]
  }
 ],
 "metadata": {
  "kernelspec": {
   "display_name": "Python 3 (ipykernel)",
   "language": "python",
   "name": "python3"
  },
  "language_info": {
   "codemirror_mode": {
    "name": "ipython",
    "version": 3
   },
   "file_extension": ".py",
   "mimetype": "text/x-python",
   "name": "python",
   "nbconvert_exporter": "python",
   "pygments_lexer": "ipython3",
   "version": "3.10.8"
  }
 },
 "nbformat": 4,
 "nbformat_minor": 5
}
